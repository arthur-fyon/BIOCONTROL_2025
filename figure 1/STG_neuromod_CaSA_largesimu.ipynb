{
 "cells": [
  {
   "cell_type": "markdown",
   "id": "54245f1e",
   "metadata": {},
   "source": [
    "### *This file allows to initialize a STG spiking neuron as well as neuromodulating them in a robust way with a controller*"
   ]
  },
  {
   "cell_type": "markdown",
   "id": "27d086ba",
   "metadata": {},
   "source": [
    "# **Useful packages and functions**"
   ]
  },
  {
   "cell_type": "code",
   "execution_count": null,
   "id": "bcdd32d9",
   "metadata": {},
   "outputs": [],
   "source": [
    "using DifferentialEquations, Plots, Plots.PlotMeasures, LaTeXStrings, Random, Dierckx, DelimitedFiles\n",
    "using Interpolations\n",
    "include(\"STG_kinetics.jl\") # Loading of STG kinetics of gating variables\n",
    "include(\"STG_models.jl\") # Loading of STG model\n",
    "include(\"STG_utils.jl\") # Loading of some utils functions\n",
    "include(\"STG_gs_derivatives.jl\") # Loading of X_inf derivatives\n",
    "include(\"STG_DIC.jl\") # Loading of the DIC and compensation algorithm\n",
    "include(\"STG_neuromodulation.jl\") # Loading of the neuromodulation cells functions\n",
    "include(\"STG_large_simulations.jl\"); # Loading of the neuromodulation cells functions"
   ]
  },
  {
   "cell_type": "markdown",
   "id": "7b90e6d0",
   "metadata": {},
   "source": [
    "# **Global variables**"
   ]
  },
  {
   "cell_type": "code",
   "execution_count": null,
   "id": "e0c8d5cc",
   "metadata": {},
   "outputs": [],
   "source": [
    "# Definition of simulation time (in ms)\n",
    "const Tfinal = 300000\n",
    "const tspan  = (0.0, Tfinal)\n",
    "\n",
    "# Definition of reversal potential values (in mV) and membrane capacitance\n",
    "const VNa   = 50. # Sodium reversal potential\n",
    "const VK    = -80. # Potassium reversal potential\n",
    "const VCa   = 80. # Calcium reversal potential\n",
    "const VH    = -20. # Reversal potential for the H-current (permeable to both sodium and potassium ions)\n",
    "const Vleak = -50. # Reversal potential of leak channels\n",
    "const C     = 1. # Membrane capacitance\n",
    "\n",
    "# Definition of voltage range for the DICs\n",
    "const Vmin = -60 \n",
    "const Vmax = 0\n",
    "const V    = range(Vmin, stop=Vmax, step=0.01)\n",
    "\n",
    "# Definition of the number of cells in the random set\n",
    "const ncells = 200\n",
    "\n",
    "# Modifying backend GR attributes\n",
    "gr(guidefontsize=18, legendfontsize=12, margin=5Plots.mm, grid=false)\n",
    "myApple = RGBA(187/255, 206/255, 131/255, 1)\n",
    "mySalmon = RGBA(243/255, 124/255, 130/255)\n",
    "myYellow = RGBA(228/255, 205/255, 121/255, 1)\n",
    "myBlue = RGBA(131/255, 174/255, 218/255, 1)\n",
    "myDarkBlue = RGBA(114/255, 119/255, 217/255, 1)\n",
    "myOrange = RGBA(241/255, 175/255, 113/255, 1)\n",
    "myPink = RGBA(243/255, 124/255, 130/255, 1)\n",
    "myPurple = RGBA(169/255, 90/255, 179/255, 1)\n",
    "myGreen = RGBA(132/255, 195/255, 168/255, 1)\n",
    "myRed = RGBA(158/255, 3/255, 8/255, 1)\n",
    "myGray = RGBA(150/255, 150/255, 150/255, 1)\n",
    "myLightBlue = RGBA(127/255, 154/255, 209/255, 1)\n",
    "default(fmt = :png)\n",
    "\n",
    "# Moving average function\n",
    "moving_average(vs, n, padding) = [sum(vs[i:(i+n-1)])/n for i in 1:padding:(length(vs)-(n-1))];"
   ]
  },
  {
   "cell_type": "markdown",
   "id": "a78c56a1",
   "metadata": {},
   "source": [
    "# **Neuromodulation gCaS and gA overall**"
   ]
  },
  {
   "cell_type": "markdown",
   "id": "d3d69c9f",
   "metadata": {},
   "source": [
    "## **Computation of gCaS and gA**"
   ]
  },
  {
   "cell_type": "code",
   "execution_count": null,
   "id": "8a3a445d",
   "metadata": {},
   "outputs": [],
   "source": [
    "# Fixing random seed\n",
    "Random.seed!(544)\n",
    "\n",
    "# Initial firing pattern\n",
    "guth = 4.\n",
    "Vth = -50.\n",
    "(g_all_init, ICs_th_init) = degeneracy_fixDICs_neuromod(ncells, 5., guth, Vth);\n",
    "# create a spiking set with max variability in gCaS and gA"
   ]
  },
  {
   "cell_type": "code",
   "execution_count": null,
   "id": "04eb7311",
   "metadata": {},
   "outputs": [],
   "source": [
    "# Definition of homeostatic parameters\n",
    "tau_g = 100 # Conductance time constant\n",
    "tau_Na = 600 # Sodium integral action time constants\n",
    "Ca_tgt(t) = 125. # Calcium target\n",
    "\n",
    "# Input current definition\n",
    "Iapp = 0.\n",
    "\n",
    "tt = 0. : 0.2 : Tfinal;"
   ]
  },
  {
   "cell_type": "code",
   "execution_count": null,
   "id": "a9b16c6d",
   "metadata": {},
   "outputs": [],
   "source": [
    "gNa_matrix, gCaT_matrix, gCaS_matrix, gA_matrix, gKCa_matrix, gKd_matrix, gH_matrix, \n",
    "gleak_matrix, Ca_ma_matrix = simulate_STG_population(g_all_init, Iapp, tau_Na, tau_g, Ca_tgt, C,\n",
    "                                                     ICs_th_init, tt)"
   ]
  },
  {
   "cell_type": "code",
   "execution_count": null,
   "id": "a4bbc18a",
   "metadata": {},
   "outputs": [],
   "source": [
    "gA_matrix[gA_matrix .< 1e-10] .= 1e-10;"
   ]
  },
  {
   "cell_type": "code",
   "execution_count": null,
   "id": "e834bb4c",
   "metadata": {},
   "outputs": [],
   "source": [
    "# writedlm(\"./data/gNa_matrix.dat\", gNa_matrix)\n",
    "# writedlm(\"./data/gCaT_matrix.dat\", gCaT_matrix)\n",
    "# writedlm(\"./data/gCaS_matrix.dat\", gCaS_matrix)\n",
    "# writedlm(\"./data/gA_matrix.dat\", gA_matrix)\n",
    "# writedlm(\"./data/gKCa_matrix.dat\", gKCa_matrix)\n",
    "# writedlm(\"./data/gKd_matrix.dat\", gKd_matrix)\n",
    "# writedlm(\"./data/gH_matrix.dat\", gH_matrix)\n",
    "# writedlm(\"./data/gleak_matrix.dat\", gleak_matrix)\n",
    "writedlm(\"./data/Ca_ma_matrix.dat\", Ca_ma_matrix)"
   ]
  },
  {
   "cell_type": "code",
   "execution_count": null,
   "id": "6a19cfed",
   "metadata": {},
   "outputs": [],
   "source": [
    "gNa_matrix = readdlm(\"./data/gNa_matrix.dat\")\n",
    "gCaT_matrix = readdlm(\"./data/gCaT_matrix.dat\")\n",
    "gCaS_matrix = readdlm(\"./data/gCaS_matrix.dat\")\n",
    "gA_matrix = readdlm(\"./data/gA_matrix.dat\")\n",
    "gKCa_matrix = readdlm(\"./data/gKCa_matrix.dat\")\n",
    "gKd_matrix = readdlm(\"./data/gKd_matrix.dat\")\n",
    "gH_matrix = readdlm(\"./data/gH_matrix.dat\")\n",
    "gleak_matrix = readdlm(\"./data/gleak_matrix.dat\")\n",
    "Ca_ma_matrix = readdlm(\"./data/Ca_ma_matrix.dat\");"
   ]
  },
  {
   "cell_type": "code",
   "execution_count": null,
   "id": "4a28ffdc",
   "metadata": {},
   "outputs": [],
   "source": [
    "p1 = plot(ylims=(1e-2, 1e5), yticks=([1e-2, 1e5], [L\"10^{-2}\", L\"10^{5}\"]), guidefontsize=18,\n",
    "           xticks=([0, 300], [L\"0\", L\"300\"]), tickfontsize=15, size=(600, 300), xlims=(0, 300))\n",
    "\n",
    "xlabel!(L\"t\\,\\mathrm{(s)}\")\n",
    "ylabel!(L\"\\bar{g}\\,\\mathrm{(mS/cm^2)}\")\n",
    "\n",
    "for i = 1 : ncells\n",
    "    plot!(tt[2:5000:end]./1e3, gNa_matrix[i, :], color=myApple, linewidth=1.5,\n",
    "          legend=false, alpha=0.1, yaxis=:log)\n",
    "    plot!(tt[2:5000:end]./1e3, gCaT_matrix[i, :], color=myYellow, linewidth=1.5,\n",
    "          legend=false, alpha=0.1, yaxis=:log)\n",
    "    plot!(tt[2:5000:end]./1e3, gA_matrix[i, :], color=myPurple, linewidth=1.5,\n",
    "          legend=false, alpha=0.1, yaxis=:log)\n",
    "    plot!(tt[2:5000:end]./1e3, gCaS_matrix[i, :], color=myGreen, linewidth=1.5,\n",
    "          legend=false, alpha=0.1, yaxis=:log)\n",
    "    plot!(tt[2:5000:end]./1e3, gKCa_matrix[i, :], color=myBlue, linewidth=1.5,\n",
    "          legend=false, alpha=0.1, yaxis=:log)\n",
    "    plot!(tt[2:5000:end]./1e3, gKd_matrix[i, :], color=myPink, linewidth=1.5,\n",
    "          legend=false, alpha=0.1, yaxis=:log)\n",
    "    plot!(tt[2:5000:end]./1e3, gH_matrix[i, :], color=myOrange, linewidth=1.5,\n",
    "          legend=false, alpha=0.1, yaxis=:log)\n",
    "#     plot!(tt[2:5000:end]./1e3, gleak_matrix[i, :], color=myDarkBlue, linewidth=1.5,\n",
    "#           legend=false, alpha=0.1, yaxis=:log)\n",
    "end\n",
    "\n",
    "display(p1)\n",
    "# savefig(p1, \"./figures/g_all_crash.pdf\")"
   ]
  },
  {
   "cell_type": "code",
   "execution_count": null,
   "id": "5d66cfd3",
   "metadata": {},
   "outputs": [],
   "source": [
    "tt_moving_average_plot = range(0, 300, length=length(Ca_ma_matrix[1, :]))\n",
    "p1b = plot(size=(600, 300), ylims=(0, 600), yticks=([0, 600], [L\"0\", L\"600\"]), \n",
    "           xlims=(0, 300), guidefontsize=18, xticks=([0, 300], [L\"0\", L\"300\"]), tickfontsize=15)\n",
    "\n",
    "ylabel!(L\"\\overline{[Ca]}\")\n",
    "xlabel!(L\"t\\,\\mathrm{(s)}\")\n",
    "\n",
    "for i = 1 : ncells\n",
    "    plot!(tt_moving_average_plot, Ca_ma_matrix[i, :], linewidth=1.5, color=:black, \n",
    "          alpha=0.05, legend=false)\n",
    "end\n",
    "\n",
    "plot!([0, 300], [125, 125], color=:firebrick1, linestyle=:dashdot, linewidth=1.5)\n",
    "\n",
    "display(p1b)\n",
    "# savefig(p1b, \"./figures/Ca_ma_crash.pdf\")"
   ]
  },
  {
   "cell_type": "code",
   "execution_count": null,
   "id": "d99240ef",
   "metadata": {},
   "outputs": [],
   "source": []
  }
 ],
 "metadata": {
  "@webio": {
   "lastCommId": null,
   "lastKernelId": null
  },
  "kernelspec": {
   "display_name": "Julia 1.8.2",
   "language": "julia",
   "name": "julia-1.8"
  },
  "language_info": {
   "file_extension": ".jl",
   "mimetype": "application/julia",
   "name": "julia",
   "version": "1.8.2"
  }
 },
 "nbformat": 4,
 "nbformat_minor": 5
}
