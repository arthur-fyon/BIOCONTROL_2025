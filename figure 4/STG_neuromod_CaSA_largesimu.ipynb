{
 "cells": [
  {
   "cell_type": "markdown",
   "id": "54245f1e",
   "metadata": {},
   "source": [
    "### *This file allows to initialize a STG spiking neuron as well as neuromodulating them in a robust way with a controller*"
   ]
  },
  {
   "cell_type": "markdown",
   "id": "27d086ba",
   "metadata": {},
   "source": [
    "# **Useful packages and functions**"
   ]
  },
  {
   "cell_type": "code",
   "execution_count": null,
   "id": "bcdd32d9",
   "metadata": {},
   "outputs": [],
   "source": [
    "using DifferentialEquations, Plots, Plots.PlotMeasures, LaTeXStrings, Random, Dierckx, DelimitedFiles\n",
    "include(\"STG_kinetics.jl\") # Loading of STG kinetics of gating variables\n",
    "include(\"STG_models.jl\") # Loading of STG model\n",
    "include(\"STG_utils.jl\") # Loading of some utils functions\n",
    "include(\"STG_gs_derivatives.jl\") # Loading of X_inf derivatives\n",
    "include(\"STG_DIC.jl\") # Loading of the DIC and compensation algorithm\n",
    "include(\"STG_neuromodulation.jl\") # Loading of the neuromodulation cells functions\n",
    "include(\"STG_large_simulations.jl\"); # Loading of the neuromodulation cells functions"
   ]
  },
  {
   "cell_type": "markdown",
   "id": "7b90e6d0",
   "metadata": {},
   "source": [
    "# **Global variables**"
   ]
  },
  {
   "cell_type": "code",
   "execution_count": null,
   "id": "e0c8d5cc",
   "metadata": {},
   "outputs": [],
   "source": [
    "# Definition of simulation time (in ms)\n",
    "const Tfinal = 300000\n",
    "const tspan  = (0.0, Tfinal)\n",
    "\n",
    "# Definition of reversal potential values (in mV) and membrane capacitance\n",
    "const VNa   = 50. # Sodium reversal potential\n",
    "const VK    = -80. # Potassium reversal potential\n",
    "const VCa   = 80. # Calcium reversal potential\n",
    "const VH    = -20. # Reversal potential for the H-current (permeable to both sodium and potassium ions)\n",
    "const Vleak = -50. # Reversal potential of leak channels\n",
    "const C     = 1. # Membrane capacitance\n",
    "\n",
    "# Definition of voltage range for the DICs\n",
    "const Vmin = -60 \n",
    "const Vmax = 0\n",
    "const V    = range(Vmin, stop=Vmax, step=0.01)\n",
    "\n",
    "# Definition of the number of cells in the random set\n",
    "const ncells = 200\n",
    "\n",
    "# Modifying backend GR attributes\n",
    "gr(guidefontsize=18, legendfontsize=12, margin=5Plots.mm, grid=false)\n",
    "myApple = RGBA(187/255, 206/255, 131/255, 1)\n",
    "mySalmon = RGBA(243/255, 124/255, 130/255)\n",
    "myYellow = RGBA(228/255, 205/255, 121/255, 1)\n",
    "myBlue = RGBA(131/255, 174/255, 218/255, 1)\n",
    "myDarkBlue = RGBA(114/255, 119/255, 217/255, 1)\n",
    "myOrange = RGBA(241/255, 175/255, 113/255, 1)\n",
    "myPink = RGBA(243/255, 124/255, 130/255, 1)\n",
    "myPurple = RGBA(169/255, 90/255, 179/255, 1)\n",
    "myGreen = RGBA(132/255, 195/255, 168/255, 1)\n",
    "myRed = RGBA(158/255, 3/255, 8/255, 1)\n",
    "myGray = RGBA(150/255, 150/255, 150/255, 1)\n",
    "myLightBlue = RGBA(127/255, 154/255, 209/255, 1)\n",
    "default(fmt = :png)\n",
    "\n",
    "# Moving average function\n",
    "moving_average(vs, n, padding) = [sum(vs[i:(i+n-1)])/n for i in 1:padding:(length(vs)-(n-1))];"
   ]
  },
  {
   "cell_type": "markdown",
   "id": "a78c56a1",
   "metadata": {},
   "source": [
    "# **Neuromodulation gCaS and gA overall**"
   ]
  },
  {
   "cell_type": "markdown",
   "id": "d3d69c9f",
   "metadata": {},
   "source": [
    "## **Computation of gCaS and gA**"
   ]
  },
  {
   "cell_type": "code",
   "execution_count": null,
   "id": "8a3a445d",
   "metadata": {},
   "outputs": [],
   "source": [
    "# Fixing random seed\n",
    "Random.seed!(544)\n",
    "\n",
    "# Initial firing pattern\n",
    "guth = 4.\n",
    "Vth = -50.\n",
    "(g_all_init, ICs_th_init) = degeneracy_fixDICs_neuromod(ncells, 5., guth, Vth);\n",
    "# create a spiking set with max variability in gCaS and gA"
   ]
  },
  {
   "cell_type": "code",
   "execution_count": null,
   "id": "04eb7311",
   "metadata": {},
   "outputs": [],
   "source": [
    "# Definition of parameters\n",
    "α = 5e-3 # Rate of transfer between intracellular and membrane\n",
    "β = 5e-3 # Rate of degradation of intracellular proteins\n",
    "Kp = 3e-4 # Proprtional gain\n",
    "Ki = 5e-6 # Integral gain\n",
    "Kt = β / Ki # Anti-windup gain\n",
    "gsth_sim(t) = -8. # Reference\n",
    "guth_sim(t) = 4.\n",
    "u_maxCaS = 1e7 # Maximum value of actuator\n",
    "u_maxA = 1e7\n",
    "\n",
    "# Definition of homeostatic parameters\n",
    "tau_g = 100 # Conductance time constant\n",
    "tau_Na = 600 # Sodium integral action time constants\n",
    "Ca_tgt(t) = 125. # Calcium target\n",
    "\n",
    "# Input current definition\n",
    "Iapp = 0.\n",
    "\n",
    "tt = 0. : 0.2 : Tfinal/3;"
   ]
  },
  {
   "cell_type": "code",
   "execution_count": 5,
   "id": "a9b16c6d",
   "metadata": {},
   "outputs": [],
   "source": [
    "# g_all_init_blockade = simulate_STG_population_init_blockade(g_all_init, Iapp, tau_Na, tau_g, Ca_tgt,\n",
    "#                                                             C, α, β, Kp, Ki, Kt, gsth_sim, guth_sim,\n",
    "#                                                             ICs_th_init, u_maxCaS, u_maxA, tt)"
   ]
  },
  {
   "cell_type": "code",
   "execution_count": 6,
   "id": "e834bb4c",
   "metadata": {},
   "outputs": [],
   "source": [
    "# writedlm(\"./data/g_all_init_blockade.dat\", g_all_init_blockade)"
   ]
  },
  {
   "cell_type": "code",
   "execution_count": 5,
   "id": "d29e50a6",
   "metadata": {},
   "outputs": [],
   "source": [
    "g_all_init_blockade = readdlm(\"./data/g_all_init_blockade.dat\");"
   ]
  },
  {
   "cell_type": "code",
   "execution_count": null,
   "id": "32d19049",
   "metadata": {},
   "outputs": [],
   "source": []
  },
  {
   "cell_type": "code",
   "execution_count": null,
   "id": "b8730ff4",
   "metadata": {},
   "outputs": [],
   "source": []
  },
  {
   "cell_type": "code",
   "execution_count": null,
   "id": "68c0b405",
   "metadata": {},
   "outputs": [],
   "source": []
  },
  {
   "cell_type": "code",
   "execution_count": null,
   "id": "def11bcb",
   "metadata": {},
   "outputs": [],
   "source": []
  },
  {
   "cell_type": "code",
   "execution_count": 6,
   "id": "e79af633",
   "metadata": {},
   "outputs": [
    {
     "name": "stderr",
     "output_type": "stream",
     "text": [
      "\u001b[32mComputing... 100%|███████████████████████████████████████| Time: 2:21:42\u001b[39m\n"
     ]
    },
    {
     "data": {
      "text/plain": [
       "([3426.770975554893 3462.4306370825784 … 2574.438084509549 2594.8709998765817; 2942.84725397052 3020.367574517673 … 2651.4940911818844 2639.7824822195917; … ; 3858.383957940413 3846.690067684352 … 2448.4703180382007 2467.0300820562925; 3491.5496237483203 3516.556768979467 … 2707.2087450720396 2677.0822581576986], [2.525769072073133 2.552052728275783 … 1.897540319502127 1.9126008024044483; 3.9074900940707193 4.0104209832695386 … 3.5206335910881554 3.505083006209672; … ; 2.464842382644915 2.4573720021343353 … 1.5641505558633129 1.5760070464206128; 1.5764223757371358 1.5877130138615807 … 1.2222952274514083 1.2086932245610136], [16.439762626931323 27.966295903815425 … 30.500697740876024 30.4984683089898; 14.93689787457571 23.176189426341853 … 28.680037610547142 28.681050233928417; … ; 18.158198269793086 31.45434359378551 … 29.322567693501824 29.320372996314433; 19.17086319659958 29.17610577836777 … 30.843003009574563 30.845365349806094], [61.36894664344717 242.63434481885508 … 331.8612567119982 331.8369919811277; 91.9471210406992 221.39695258222278 … 323.7648160631414 323.77625148350114; … ; 56.47721465816564 266.0698594427701 … 316.18714102249174 316.16347166583756; 97.52748779380079 255.0066793127662 … 328.8672841002477 328.89247811462775], [94.67124775325038 95.65641561982618 … 71.12388527377192 71.68838450843391; 48.41207815935077 49.68734646020997 … 43.61909678049889 43.42643189526003; … ; 66.79595173900981 66.59350829696236 … 42.387669807061364 42.708974559296806; 98.61108053075432 99.3173519225323 … 76.45911080804055 75.60825495680011], [119.43927041307616 120.68217925828083 … 89.73141442223455 90.44359872671106; 91.66491602986355 94.07954820757836 … 82.58973784440971 82.2249402319357; … ; 155.95290655141287 155.48024851784643 … 98.96528361745742 99.71545497807014; 138.02048797445758 139.0090170688563 … 107.01559831821174 105.82470233420845], [0.007914026734223211 0.007996381673223965 … 0.005945589002531815 0.005992778219327494; 0.006425648525831051 0.006594912605974281 … 0.005789484681973904 0.005763912616429514; … ; 0.008992152863944152 0.008964899679734748 … 0.005706280044353219 0.005749534483774325; 0.0077094649027238515 0.007764681562731615 … 0.005977612536986439 0.005911092189708423], [164.2843461952848 172.92411704807668 … 127.02684753879198 126.91153532570105; 136.68662130230337 137.17738886124263 … 123.12300361351679 126.97226405537879; … ; 197.34732482532203 207.01437715297655 … 120.71478850253723 130.22604124041786; 164.27979931871212 167.16463415683845 … 126.65587155703601 126.69176741008818], [4728.209445528828, 5344.401565840253, 4876.21806341462, 3887.92274592425, 4256.663282731971, 4164.222475320836, 4935.64635070872, 5329.705460145487, 4631.647229647359, 4948.118876557356  …  4684.667356395115, 4912.095908031895, 4649.469091110692, 4391.448873166417, 4031.53186265501, 4951.492361112762, 4397.917567237394, 4308.349207878499, 5033.411965236184, 4269.903443250131], [5383.160938716542, 6636.430942908398, 6001.451590770463, 4703.320631464435, 5051.205170913994, 5145.3214541704265, 4588.019666189473, 5344.906995673383, 5745.340954067135, 4634.800816199701  …  6054.173848353971, 5693.073714071195, 5621.266393286735, 5173.579757863835, 4544.992325160738, 5138.358732409052, 4880.380798531176, 4451.201878461263, 5064.809799183848, 4362.12512161078])"
      ]
     },
     "execution_count": 6,
     "metadata": {},
     "output_type": "execute_result"
    }
   ],
   "source": [
    "gsth_sim2(t) = -8.\n",
    "guth_sim2(t) = -4.\n",
    "gNa_matrix_H_blockade, gCaT_matrix_H_blockade, gCaS_matrix_H_blockade, \n",
    "gA_matrix_H_blockade, gKCa_matrix_H_blockade, gKd_matrix_H_blockade, \n",
    "gleak_matrix_H_blockade, Ca_ma_matrix_H_blockade,\n",
    "burstiness_before_H_blockade, burstiness_after_H_blockade = simulate_STG_population_H_blockade(g_all_init_blockade, \n",
    "                                                   Iapp, tau_Na, tau_g, Ca_tgt, C, α, β, Kp, Ki, Kt, \n",
    "                                                   gsth_sim2, guth_sim2, ICs_th_init, u_maxCaS, u_maxA, tt)"
   ]
  },
  {
   "cell_type": "code",
   "execution_count": 7,
   "id": "ebf9f68a",
   "metadata": {},
   "outputs": [],
   "source": [
    "writedlm(\"./data/gNa_matrix_H_blockade.dat\", gNa_matrix_H_blockade)\n",
    "writedlm(\"./data/gCaT_matrix_H_blockade.dat\", gCaT_matrix_H_blockade)\n",
    "writedlm(\"./data/gCaS_matrix_H_blockade.dat\", gCaS_matrix_H_blockade)\n",
    "writedlm(\"./data/gA_matrix_H_blockade.dat\", gA_matrix_H_blockade)\n",
    "writedlm(\"./data/gKCa_matrix_H_blockade.dat\", gKCa_matrix_H_blockade)\n",
    "writedlm(\"./data/gKd_matrix_H_blockade.dat\", gKd_matrix_H_blockade)\n",
    "writedlm(\"./data/gleak_matrix_H_blockade.dat\", gleak_matrix_H_blockade)\n",
    "writedlm(\"./data/Ca_ma_matrix_H_blockade.dat\", Ca_ma_matrix_H_blockade)\n",
    "writedlm(\"./data/burstiness_before_H_blockade.dat\", burstiness_before_H_blockade)\n",
    "writedlm(\"./data/burstiness_after_H_blockade.dat\", burstiness_after_H_blockade)"
   ]
  },
  {
   "cell_type": "code",
   "execution_count": 10,
   "id": "69202c69",
   "metadata": {},
   "outputs": [],
   "source": [
    "# gNa_matrix_H_blockade = readdlm(\"./data/gNa_matrix_H_blockade.dat\")\n",
    "# gCaT_matrix_H_blockade = readdlm(\"./data/gCaT_matrix_H_blockade.dat\")\n",
    "# gCaS_matrix_H_blockade = readdlm(\"./data/gCaS_matrix_H_blockade.dat\")\n",
    "# gA_matrix_H_blockade = readdlm(\"./data/gA_matrix_H_blockade.dat\")\n",
    "# gKCa_matrix_H_blockade = readdlm(\"./data/gKCa_matrix_H_blockade.dat\")\n",
    "# gKd_matrix_H_blockade = readdlm(\"./data/gKd_matrix_H_blockade.dat\")\n",
    "# gleak_matrix_H_blockade = readdlm(\"./data/gleak_matrix_H_blockade.dat\")\n",
    "# Ca_ma_matrix_H_blockade = readdlm(\"./data/Ca_ma_matrix_H_blockade.dat\");"
   ]
  },
  {
   "cell_type": "code",
   "execution_count": null,
   "id": "95bb60f2",
   "metadata": {},
   "outputs": [],
   "source": []
  },
  {
   "cell_type": "code",
   "execution_count": null,
   "id": "b6ddfe92",
   "metadata": {},
   "outputs": [],
   "source": []
  },
  {
   "cell_type": "code",
   "execution_count": null,
   "id": "0860352f",
   "metadata": {},
   "outputs": [],
   "source": []
  },
  {
   "cell_type": "code",
   "execution_count": 8,
   "id": "136e056d",
   "metadata": {},
   "outputs": [
    {
     "name": "stderr",
     "output_type": "stream",
     "text": [
      "\u001b[32mComputing... 100%|███████████████████████████████████████| Time: 3:14:25\u001b[39m\n"
     ]
    },
    {
     "data": {
      "text/plain": [
       "([3426.770975554893 3409.7601023911134 … 3312.5828683380255 3310.2643337073755; 2942.84725397052 2982.2495238522915 … 3477.010191106018 3482.9072053842456; … ; 3858.383957940413 3828.935926713052 … 3819.202524552306 3799.462715201388; 3491.5496237483203 3500.229028269236 … 3762.987641628885 3787.7422375931205], [16.43976224470342 21.703440136339466 … 26.75459728704219 26.754534980338455; 14.936897666769278 19.7114257630158 … 29.546550732384212 29.55473140902269; … ; 18.158197809935874 23.998891489465695 … 30.289101562938384 30.370834494840974; 19.170862885869866 24.055583504755155 … 32.059757782895055 31.993176276976165], [61.36893848401657 111.51971491320542 … 162.2889010975145 162.288523155496; 91.94711548007766 131.5191139575198 … 207.2199441651372 207.27731801467954; … ; 56.477205105726426 113.57118680428134 … 175.70271203961042 176.17683299590018; 97.52748108116384 147.00088303699343 … 219.51079661441506 219.05491795484807], [94.67124775325038 94.20128912477075 … 91.51657804642049 91.45252399436731; 48.41207815935077 49.06027550177091 … 57.19946521368637 57.29647558884542; … ; 66.79595173900981 66.28615040919993 … 66.11764673822307 65.77591316087262; 98.61108053075432 98.8562110746093 … 106.277245736679 106.97638443415944], [119.43927041307616 118.8463605587961 … 115.45927165822089 115.37845969655571; 91.66491602986355 92.8922327909447 … 108.3032246314148 108.48690705594703; … ; 155.95290655141284 154.76263982000793 … 154.36922320463063 153.5713553209253; 138.02048797445755 138.36358367017817 … 148.75039638759213 149.7289422433802], [0.2522334440621866 0.250981329125059 … 0.2438284296157294 0.24365776983740253; 0.21988731370653808 0.22283142141262263 … 0.2597995630323649 0.2602401834644214; … ; 0.28266585135459965 0.2805084836824525 … 0.279795413019098 0.27834927129847786; 0.26138701335854936 0.2620367774661584 … 0.2817076103574537 0.2835608075344273], [0.007914026734223211 0.007874740623201803 … 0.00765031266062622 0.007644958073120342; 0.0064256485258310505 0.006511682599478133 … 0.007591982689089619 0.007604858702634778; … ; 0.00899215286394415 0.008923522784298085 … 0.008900838613654045 0.008854834020766686; 0.0077094649027238515 0.007728629334492256 … 0.00830880963432441 0.008363468656630577], [130.6285882049819 126.47421105550703 … 125.3225404591589 123.76934830239617; 100.80462006665435 97.97788652603121 … 126.35536538028585 127.21930679106154; … ; 128.2651336045546 122.58411955361441 … 126.89853940040864 124.9025335951708; 116.2310236792013 110.85488734889594 … 124.77591629119689 125.86532355531132], [5055.629590538037, 2924.448264355348, 4515.212096878392, 3322.301394246497, 2435.068565401718, 3495.7153817667117, 2808.4657127466376, 3102.9358277934057, 3007.254422977275, 1996.3726476436734  …  2613.863220231188, 2498.0702407390295, 4470.005177453829, 3056.125794770905, 2455.746446685242, 3995.7218133239, 2471.049239408429, 3300.2015909807396, 4260.84406665446, 3317.047743884889], [3900.6372529122737, 3675.459977506599, 3559.8005620460176, 3313.9803988496406, 2840.979423597737, 3988.0786849344604, 2995.7634458033704, 3401.623467637061, 3361.711587505343, 2444.6200431836282  …  4429.68440957191, 3397.542848475656, 3613.262772398246, 3036.2594440319835, 2233.2952173102462, 2851.0851242711037, 2769.284609563251, 2672.9483775656954, 4206.736171531348, 2514.129851153691])"
      ]
     },
     "execution_count": 8,
     "metadata": {},
     "output_type": "execute_result"
    }
   ],
   "source": [
    "gsth_sim3(t) = -10.\n",
    "guth_sim3(t) = 3.\n",
    "gNa_matrix_CaT_blockade, gCaS_matrix_CaT_blockade, gA_matrix_CaT_blockade, \n",
    "gKCa_matrix_CaT_blockade, gKd_matrix_CaT_blockade, gH_matrix_CaT_blockade, \n",
    "gleak_matrix_CaT_blockade, Ca_ma_matrix_CaT_blockade,\n",
    "burstiness_before_CaT_blockade, burstiness_after_CaT_blockade = simulate_STG_population_CaT_blockade(g_all_init_blockade, \n",
    "                                                       Iapp, tau_Na, tau_g, Ca_tgt, C, α, β, Kp, Ki, Kt, \n",
    "                                                       gsth_sim3, guth_sim3, ICs_th_init, u_maxCaS, u_maxA, tt)"
   ]
  },
  {
   "cell_type": "code",
   "execution_count": 9,
   "id": "df301d74",
   "metadata": {},
   "outputs": [],
   "source": [
    "writedlm(\"./data/gNa_matrix_CaT_blockade.dat\", gNa_matrix_CaT_blockade)\n",
    "writedlm(\"./data/gCaS_matrix_CaT_blockade.dat\", gCaS_matrix_CaT_blockade)\n",
    "writedlm(\"./data/gA_matrix_CaT_blockade.dat\", gA_matrix_CaT_blockade)\n",
    "writedlm(\"./data/gKCa_matrix_CaT_blockade.dat\", gKCa_matrix_CaT_blockade)\n",
    "writedlm(\"./data/gKd_matrix_CaT_blockade.dat\", gKd_matrix_CaT_blockade)\n",
    "writedlm(\"./data/gH_matrix_CaT_blockade.dat\", gH_matrix_CaT_blockade)\n",
    "writedlm(\"./data/gleak_matrix_CaT_blockade.dat\", gleak_matrix_CaT_blockade)\n",
    "writedlm(\"./data/Ca_ma_matrix_CaT_blockade.dat\", Ca_ma_matrix_CaT_blockade)\n",
    "writedlm(\"./data/burstiness_before_CaT_blockade.dat\", burstiness_before_CaT_blockade)\n",
    "writedlm(\"./data/burstiness_after_CaT_blockade.dat\", burstiness_after_CaT_blockade)"
   ]
  },
  {
   "cell_type": "code",
   "execution_count": 13,
   "id": "0f664cd1",
   "metadata": {},
   "outputs": [],
   "source": [
    "# gNa_matrix_CaT_blockade = readdlm(\"./data/gNa_matrix_CaT_blockade.dat\")\n",
    "# gCaS_matrix_CaT_blockade = readdlm(\"./data/gCaS_matrix_CaT_blockade.dat\")\n",
    "# gA_matrix_CaT_blockade = readdlm(\"./data/gA_matrix_CaT_blockade.dat\")\n",
    "# gKCa_matrix_CaT_blockade = readdlm(\"./data/gKCa_matrix_CaT_blockade.dat\")\n",
    "# gKd_matrix_CaT_blockade = readdlm(\"./data/gKd_matrix_CaT_blockade.dat\")\n",
    "# gH_matrix_CaT_blockade = readdlm(\"./data/gH_matrix_CaT_blockade.dat\")\n",
    "# gleak_matrix_CaT_blockade = readdlm(\"./data/gleak_matrix_CaT_blockade.dat\")\n",
    "# Ca_ma_matrix_CaT_blockade = readdlm(\"./data/Ca_ma_matrix_CaT_blockade.dat\");"
   ]
  },
  {
   "cell_type": "code",
   "execution_count": null,
   "id": "8407be9d",
   "metadata": {},
   "outputs": [],
   "source": []
  },
  {
   "cell_type": "code",
   "execution_count": null,
   "id": "ceda901b",
   "metadata": {},
   "outputs": [],
   "source": []
  },
  {
   "cell_type": "code",
   "execution_count": null,
   "id": "d900a2b4",
   "metadata": {},
   "outputs": [],
   "source": []
  },
  {
   "cell_type": "code",
   "execution_count": 10,
   "id": "e2da10ac",
   "metadata": {},
   "outputs": [
    {
     "name": "stderr",
     "output_type": "stream",
     "text": [
      "\u001b[32mComputing... 100%|███████████████████████████████████████| Time: 0:37:05\u001b[39m\n"
     ]
    },
    {
     "data": {
      "text/plain": [
       "([2.5257690720731336 2.609808402929915 … 10.514813238201238 10.567304180948181; 3.9074900940707193 4.059326538219877 … 15.047584019144605 15.098349001135622; … ; 2.4648423826449153 2.5334339171810774 … 9.396493441208936 9.44020910434075; 1.5764223757371358 1.6340254180136684 … 8.353167149466223 8.421212878290278], [16.439761865923305 15.836791639475486 … 63.10065451793261 63.42575226813802; 14.936897327683248 14.433963774741322 … 53.34356093177716 53.53438745387347; … ; 18.158197386205604 17.454233715538102 … 63.358376436203514 63.66949464332414; 19.170862528241646 18.574687829391486 … 94.09468314487862 94.87501613537609], [61.368935573615424 66.16026347623874 … 304.83533934669185 306.46949746443613; 91.94711320971177 96.22951239120187 … 392.55514442183465 393.9876402559009; … ; 56.47720177733336 61.75927344242907 … 261.22386298022724 262.5423346154373; 97.5274781995042 102.55996529966772 … 574.5350225390706 579.3831276248758], [94.67124775325038 97.82122230972531 … 394.11777591206936 396.08524914647745; 48.41207815935077 50.29326470739638 … 186.43292653502454 187.06188226280338; … ; 66.79595173900981 68.6547467933477 … 254.6401047118547 255.82477653726272; 98.61108053075432 102.21436498558933 … 522.5216611618462 526.7781744847479], [119.43927041307616 123.41334566584568 … 497.2274130626701 499.70961936344037; 91.66491602986355 95.22681243091378 … 352.9978304129797 354.1887145097872; … ; 155.95290655141284 160.29275775287476 … 594.5250186648522 597.2909499776342; 138.02048797445755 143.0638063935476 … 731.3447359325413 737.30234275253], [0.2522334440621866 0.2606259491779798 … 1.0500514817712205 1.0552934381390977; 0.21988731370653805 0.2284316495904289 … 0.8467770226120289 0.8496337350416502; … ; 0.2826658513545996 0.2905318652798301 … 1.0775812023555207 1.0825944742887226; 0.26138701335854936 0.2709381891175108 … 1.3850408665145038 1.396323546907068], [0.007914026734223211 0.008177348317530487 … 0.032946207946157574 0.033110678534065636; 0.006425648525831051 0.006675335050947182 … 0.024744908814139797 0.024828388982698405; … ; 0.008992152863944152 0.009242386131622714 … 0.034279962890663054 0.034439444863302665; 0.0077094649027238515 0.00799117153132549 … 0.04085101173173012 0.041183788128604244], [30.40633750525988 27.004879980259783 … 81.23050374704326 83.121355340457; 34.37322685715425 31.98098870720677 … 101.79674809519554 101.93494399194591; … ; 31.055081804610257 26.94020536938879 … 81.94443144830305 81.9248810753317; 21.6547939900277 18.220325005274365 … 34.76653081986284 35.20268352810848], [NaN, NaN, NaN, NaN, NaN, NaN, NaN, NaN, NaN, NaN  …  NaN, NaN, NaN, NaN, NaN, NaN, NaN, NaN, NaN, NaN], [NaN, NaN, NaN, NaN, NaN, NaN, NaN, NaN, NaN, NaN  …  NaN, NaN, NaN, NaN, NaN, NaN, NaN, NaN, NaN, NaN])"
      ]
     },
     "execution_count": 10,
     "metadata": {},
     "output_type": "execute_result"
    }
   ],
   "source": [
    "gCaT_matrix_Na_blockade, gCaS_matrix_Na_blockade, gA_matrix_Na_blockade, \n",
    "gKCa_matrix_Na_blockade, gKd_matrix_Na_blockade, gH_matrix_Na_blockade, \n",
    "gleak_matrix_Na_blockade, Ca_ma_matrix_Na_blockade,\n",
    "burstiness_before_Na_blockade, burstiness_after_Na_blockade = simulate_STG_population_Na_blockade(g_all_init_blockade, \n",
    "                                                     Iapp, tau_Na, tau_g, Ca_tgt, C, α, β, Kp, Ki, Kt, \n",
    "                                                     gsth_sim, guth_sim, ICs_th_init, u_maxCaS, u_maxA, tt)"
   ]
  },
  {
   "cell_type": "code",
   "execution_count": 11,
   "id": "d03ae5bb",
   "metadata": {},
   "outputs": [],
   "source": [
    "writedlm(\"./data/gCaT_matrix_Na_blockade.dat\", gCaT_matrix_Na_blockade)\n",
    "writedlm(\"./data/gCaS_matrix_Na_blockade.dat\", gCaS_matrix_Na_blockade)\n",
    "writedlm(\"./data/gA_matrix_Na_blockade.dat\", gA_matrix_Na_blockade)\n",
    "writedlm(\"./data/gKCa_matrix_Na_blockade.dat\", gKCa_matrix_Na_blockade)\n",
    "writedlm(\"./data/gKd_matrix_Na_blockade.dat\", gKd_matrix_Na_blockade)\n",
    "writedlm(\"./data/gH_matrix_Na_blockade.dat\", gH_matrix_Na_blockade)\n",
    "writedlm(\"./data/gleak_matrix_Na_blockade.dat\", gleak_matrix_Na_blockade)\n",
    "writedlm(\"./data/Ca_ma_matrix_Na_blockade.dat\", Ca_ma_matrix_Na_blockade)\n",
    "writedlm(\"./data/burstiness_before_Na_blockade.dat\", burstiness_before_Na_blockade)\n",
    "writedlm(\"./data/burstiness_after_Na_blockade.dat\", burstiness_after_Na_blockade)"
   ]
  },
  {
   "cell_type": "code",
   "execution_count": 16,
   "id": "300e7fac",
   "metadata": {},
   "outputs": [],
   "source": [
    "# gCaT_matrix_Na_blockade = readdlm(\"./data/gCaT_matrix_Na_blockade.dat\")\n",
    "# gCaS_matrix_Na_blockade = readdlm(\"./data/gCaS_matrix_Na_blockade.dat\")\n",
    "# gA_matrix_Na_blockade = readdlm(\"./data/gA_matrix_Na_blockade.dat\")\n",
    "# gKCa_matrix_Na_blockade = readdlm(\"./data/gKCa_matrix_Na_blockade.dat\")\n",
    "# gKd_matrix_Na_blockade = readdlm(\"./data/gKd_matrix_Na_blockade.dat\")\n",
    "# gH_matrix_Na_blockade = readdlm(\"./data/gH_matrix_Na_blockade.dat\")\n",
    "# gleak_matrix_Na_blockade = readdlm(\"./data/gleak_matrix_Na_blockade.dat\")\n",
    "# Ca_ma_matrix_Na_blockade = readdlm(\"./data/Ca_ma_matrix_Na_blockade.dat\");"
   ]
  },
  {
   "cell_type": "code",
   "execution_count": null,
   "id": "ea3f6d86",
   "metadata": {},
   "outputs": [],
   "source": []
  },
  {
   "cell_type": "code",
   "execution_count": null,
   "id": "90b21fa7",
   "metadata": {},
   "outputs": [],
   "source": []
  },
  {
   "cell_type": "code",
   "execution_count": null,
   "id": "413c4179",
   "metadata": {},
   "outputs": [],
   "source": []
  },
  {
   "cell_type": "code",
   "execution_count": 12,
   "id": "7ae40eae",
   "metadata": {},
   "outputs": [
    {
     "name": "stderr",
     "output_type": "stream",
     "text": [
      "\u001b[32mComputing... 100%|███████████████████████████████████████| Time: 2:33:14\u001b[39m\n"
     ]
    },
    {
     "data": {
      "text/plain": [
       "([3426.770975554893 3320.2103936284902 … 2894.3845823249344 2900.7941223810435; 2942.8472539705203 2823.5789401902985 … 1777.9386429408535 1795.2329619437596; … ; 3858.383957940413 3723.5591547016866 … 2916.2041527921974 2916.197438305447; 3491.5496237483203 3405.0951228191257 … 3060.536672553817 3060.2206238146846], [2.525769072073133 2.4472264953874316 … 2.133363190266191 2.1380874680645596; 3.907490094070719 3.7491265385025776 … 2.360733342780314 2.3836966073862156; … ; 2.4648423826449153 2.378712569521851 … 1.8629518654967818 1.862947576096921; 1.5764223757371358 1.537388472618309 … 1.3818215440966832 1.3816788492024765], [16.43976380856882 45.74944239298899 … 67.22833536358135 67.39529350884044; 14.936898914652105 38.75242518290687 … 40.21804037571425 40.24756051347859; … ; 18.15819959040469 51.355552509438866 … 68.08287905457799 68.08247750333142; 19.170864426723202 47.78211872187722 … 71.02594766287179 71.0257505606484], [61.368965295591885 525.9644172556609 … 894.2240108000433 896.444770565722; 91.94713745883833 469.5328582574638 … 548.0874621443094 548.4897596515558; … ; 56.47723550216331 582.8780376699576 … 900.5602153698376 900.5549038865145; 97.52750721185474 551.1516315579654 … 941.420299574892 941.4176870643876], [119.43927041307616 115.72512720044904 … 100.88307192800717 101.10647489057637; 91.66491602986355 87.94990161552893 … 55.379903320363645 55.91859329044382; … ; 155.95290655141284 150.5033918920356 … 117.87072481196346 117.87045341758125; 138.02048797445755 134.60295315705807 … 120.98260386634402 120.97011050210826], [0.2522334440621866 0.2443898668951373 … 0.2130462166418873 0.213518001997469; 0.21988731370653805 0.21097567580482365 … 0.132846226253811 0.13413844464632413; … ; 0.2826658513545996 0.2727885638148881 … 0.21364160191377202 0.21364111000935118; 0.26138701335854936 0.25491479150164764 … 0.2291201977116503 0.2290965374332934], [0.007914026734223211 0.007667928205843008 … 0.006684496024697217 0.006699298668853986; 0.006425648525831051 0.006165228531695743 … 0.003882093712006384 0.003919855514035527; … ; 0.00899215286394415 0.008677937053960109 … 0.006796356663885514 0.006796341015445071; 0.0077094649027238515 0.007518570310803216 … 0.006757773081634079 0.0067570752348542], [160.00550698437533 151.2237057089849 … 119.63757508737255 117.81663995854159; 179.0718396470537 170.81694031129032 … 119.67972518909386 121.09294149186236; … ; 172.49795976754547 162.4822551048068 … 124.48132893447004 124.41154229155534; 149.84990510924302 139.0879835484587 … 125.13718832378488 125.15987837736698], [2389.7579467962264, 2569.2299136050574, 3085.4225368282596, 1642.0567708756555, 2943.9297045661415, 3791.808480303829, 1779.5693702866674, 2169.7880414897522, 3013.7916333146363, 1689.3150390621615  …  3377.7661793905336, 2954.6436868550422, 3112.509270037176, 3092.661416182463, 2769.5564287095585, 2180.9987827146897, 1712.8119545277837, NaN, 1865.4442733253595, 1762.6431986184666], [1500.6324277553526, 3069.7923284690014, 2266.694481772636, 1490.2063637772771, 2200.0174647540302, 2927.307826197047, 1365.615176540935, 1508.5859475895973, 2161.478012338548, 1399.6158619794098  …  3020.641285698631, 2213.463832524876, 2177.942485335327, 2145.970560282372, 2175.7627439364333, 2234.994218409545, 1481.8986601683403, NaN, 1446.695528931382, 1358.6779158093814])"
      ]
     },
     "execution_count": 12,
     "metadata": {},
     "output_type": "execute_result"
    }
   ],
   "source": [
    "gsth_sim2(t) = -8.\n",
    "guth_sim2(t) = -4.\n",
    "gNa_matrix_KCa_blockade, gCaT_matrix_KCa_blockade, gCaS_matrix_KCa_blockade, \n",
    "gA_matrix_KCa_blockade, gKd_matrix_KCa_blockade, gH_matrix_KCa_blockade, \n",
    "gleak_matrix_KCa_blockade, Ca_ma_matrix_KCa_blockade,\n",
    "burstiness_before_KCa_blockade, burstiness_after_KCa_blockade = simulate_STG_population_KCa_blockade(g_all_init_blockade, \n",
    "                                                   Iapp, tau_Na, tau_g, Ca_tgt, C, α, β, Kp, Ki, Kt, \n",
    "                                                   gsth_sim2, guth_sim2, ICs_th_init, u_maxCaS, u_maxA, tt)"
   ]
  },
  {
   "cell_type": "code",
   "execution_count": 13,
   "id": "5eb604fe",
   "metadata": {},
   "outputs": [],
   "source": [
    "writedlm(\"./data/gNa_matrix_KCa_blockade.dat\", gNa_matrix_KCa_blockade)\n",
    "writedlm(\"./data/gCaT_matrix_KCa_blockade.dat\", gCaT_matrix_KCa_blockade)\n",
    "writedlm(\"./data/gCaS_matrix_KCa_blockade.dat\", gCaS_matrix_KCa_blockade)\n",
    "writedlm(\"./data/gA_matrix_KCa_blockade.dat\", gA_matrix_KCa_blockade)\n",
    "writedlm(\"./data/gKd_matrix_KCa_blockade.dat\", gKd_matrix_KCa_blockade)\n",
    "writedlm(\"./data/gH_matrix_KCa_blockade.dat\", gH_matrix_KCa_blockade)\n",
    "writedlm(\"./data/gleak_matrix_KCa_blockade.dat\", gleak_matrix_KCa_blockade)\n",
    "writedlm(\"./data/Ca_ma_matrix_KCa_blockade.dat\", Ca_ma_matrix_KCa_blockade)\n",
    "writedlm(\"./data/burstiness_before_KCa_blockade.dat\", burstiness_before_KCa_blockade)\n",
    "writedlm(\"./data/burstiness_after_KCa_blockade.dat\", burstiness_after_KCa_blockade)"
   ]
  },
  {
   "cell_type": "code",
   "execution_count": 19,
   "id": "4cdcedf5",
   "metadata": {},
   "outputs": [],
   "source": [
    "# gNa_matrix_KCa_blockade = readdlm(\"./data/gNa_matrix_KCa_blockade.dat\")\n",
    "# gCaT_matrix_KCa_blockade = readdlm(\"./data/gCaT_matrix_KCa_blockade.dat\")\n",
    "# gCaS_matrix_KCa_blockade = readdlm(\"./data/gCaS_matrix_KCa_blockade.dat\")\n",
    "# gA_matrix_KCa_blockade = readdlm(\"./data/gA_matrix_KCa_blockade.dat\")\n",
    "# gKd_matrix_KCa_blockade = readdlm(\"./data/gKd_matrix_KCa_blockade.dat\")\n",
    "# gH_matrix_KCa_blockade = readdlm(\"./data/gH_matrix_KCa_blockade.dat\")\n",
    "# gleak_matrix_KCa_blockade = readdlm(\"./data/gleak_matrix_KCa_blockade.dat\")\n",
    "# Ca_ma_matrix_KCa_blockade = readdlm(\"./data/Ca_ma_matrix_KCa_blockade.dat\");"
   ]
  },
  {
   "cell_type": "code",
   "execution_count": null,
   "id": "703b9db5",
   "metadata": {},
   "outputs": [],
   "source": []
  },
  {
   "cell_type": "code",
   "execution_count": null,
   "id": "4a28ffdc",
   "metadata": {},
   "outputs": [],
   "source": []
  }
 ],
 "metadata": {
  "@webio": {
   "lastCommId": null,
   "lastKernelId": null
  },
  "kernelspec": {
   "display_name": "Julia 1.8.2",
   "language": "julia",
   "name": "julia-1.8"
  },
  "language_info": {
   "file_extension": ".jl",
   "mimetype": "application/julia",
   "name": "julia",
   "version": "1.8.2"
  }
 },
 "nbformat": 4,
 "nbformat_minor": 5
}
